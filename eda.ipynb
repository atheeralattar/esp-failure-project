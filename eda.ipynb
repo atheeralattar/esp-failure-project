{
 "cells": [
  {
   "cell_type": "code",
   "execution_count": 41,
   "metadata": {},
   "outputs": [],
   "source": [
    "import pandas as pd\n",
    "import os\n",
    "import missingno as msno\n",
    "from sklearn.impute import SimpleImputer"
   ]
  },
  {
   "cell_type": "code",
   "execution_count": 4,
   "metadata": {},
   "outputs": [],
   "source": [
    "tracker = pd.read_csv('data/tracker.csv')"
   ]
  },
  {
   "cell_type": "code",
   "execution_count": null,
   "metadata": {},
   "outputs": [],
   "source": [
    "# # combingin the\n",
    "# directory = 'data/train_data/'\n",
    "\n",
    "# # Initialize an empty dataframe\n",
    "# combined_df = pd.DataFrame()\n",
    "\n",
    "# # Loop through files in the directory\n",
    "# for filename in os.listdir(directory):\n",
    "#     if filename.endswith('.csv'):  # Assuming the files are in CSV format\n",
    "#         file_path = os.path.join(directory, filename)\n",
    "#         # Read the file into a dataframe\n",
    "#         df = pd.read_csv(file_path)\n",
    "#         # Add a column with the file name\n",
    "#         df['File Name'] = filename\n",
    "#         # Concatenate the dataframe to the combined dataframe\n",
    "#         combined_df = pd.concat([combined_df, df], ignore_index=True)\n",
    "\n",
    "# combined_df = combined_df.rename(columns={'Unnamed: 0': 'timestamp'})"
   ]
  },
  {
   "cell_type": "code",
   "execution_count": 35,
   "metadata": {},
   "outputs": [],
   "source": [
    "combined_df = pd.read_csv('data/train_data/combined_data.csv')"
   ]
  },
  {
   "cell_type": "code",
   "execution_count": 13,
   "metadata": {},
   "outputs": [
    {
     "data": {
      "text/plain": [
       "(15,)"
      ]
     },
     "execution_count": 13,
     "metadata": {},
     "output_type": "execute_result"
    }
   ],
   "source": [
    "msno.matrix(combined_df, figsize=(20, 10), fontsize=12)"
   ]
  },
  {
   "cell_type": "code",
   "execution_count": 36,
   "metadata": {},
   "outputs": [],
   "source": [
    "combined_df['timestamp'] = pd.to_datetime(combined_df['timestamp'], format='mixed')\n",
    "combined_df['day'] = combined_df['timestamp'].dt.day\n"
   ]
  },
  {
   "cell_type": "code",
   "execution_count": null,
   "metadata": {},
   "outputs": [],
   "source": []
  },
  {
   "cell_type": "code",
   "execution_count": 31,
   "metadata": {},
   "outputs": [],
   "source": [
    "percentage = (nan_counts / len(combined_df)) * 100\n",
    "#print(percentage)\n",
    "#print(nan_counts)"
   ]
  },
  {
   "cell_type": "code",
   "execution_count": 38,
   "metadata": {},
   "outputs": [],
   "source": [
    "# preparing for downsampling\n",
    "combined_df.set_index('timestamp', inplace=True)"
   ]
  },
  {
   "cell_type": "code",
   "execution_count": 42,
   "metadata": {},
   "outputs": [
    {
     "name": "stderr",
     "output_type": "stream",
     "text": [
      "/tmp/ipykernel_158110/1234554365.py:1: FutureWarning: DataFrame.fillna with 'method' is deprecated and will raise in a future version. Use obj.ffill() or obj.bfill() instead.\n",
      "  combined_df.fillna(method='ffill', inplace=True)\n"
     ]
    }
   ],
   "source": [
    "combined_df.fillna(method='ffill', inplace=True)\n"
   ]
  },
  {
   "cell_type": "code",
   "execution_count": null,
   "metadata": {},
   "outputs": [],
   "source": []
  }
 ],
 "metadata": {
  "kernelspec": {
   "display_name": "de",
   "language": "python",
   "name": "python3"
  },
  "language_info": {
   "codemirror_mode": {
    "name": "ipython",
    "version": 3
   },
   "file_extension": ".py",
   "mimetype": "text/x-python",
   "name": "python",
   "nbconvert_exporter": "python",
   "pygments_lexer": "ipython3",
   "version": "3.11.11"
  }
 },
 "nbformat": 4,
 "nbformat_minor": 2
}
