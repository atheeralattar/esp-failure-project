{
 "cells": [
  {
   "cell_type": "code",
   "execution_count": 2,
   "metadata": {},
   "outputs": [],
   "source": [
    "import pandas as pd\n",
    "import os\n",
    "import missingno as msno\n",
    "from sklearn.impute import KNNImputer\n",
    "from tqdm import tqdm"
   ]
  },
  {
   "cell_type": "code",
   "execution_count": null,
   "metadata": {},
   "outputs": [],
   "source": [
    "tracker = pd.read_csv('data/tracker.csv')"
   ]
  },
  {
   "cell_type": "code",
   "execution_count": 35,
   "metadata": {},
   "outputs": [],
   "source": [
    "# combingin the\n",
    "directory = 'data/train_data/'\n",
    "\n",
    "# Initialize an empty dataframe\n",
    "combined_df = pd.DataFrame()\n",
    "\n",
    "# Loop through files in the directory\n",
    "\n",
    "for filename in os.listdir(directory):\n",
    "    if (filename.startswith('z')):  # Assuming the files are in CSV format\n",
    "        file_path = os.path.join(directory, filename)\n",
    "        # Read the file into a dataframe\n",
    "        df = pd.read_csv(file_path)\n",
    "        # Add a column with the file name\n",
    "               \n",
    "        df = df.rename(columns={'Unnamed: 0': 'timestamp'})\n",
    "                \n",
    "        # Concatenate the dataframe to the combined dataframe\n",
    "        df['timestamp'] = pd.to_datetime(df['timestamp'], format='mixed')\n",
    "               \n",
    "        imputed_data = df.ffill().bfill()\n",
    "        \n",
    "        # Convert the result back to a DataFrame\n",
    "        imputed_df = pd.DataFrame(imputed_data, columns=df.columns)\n",
    "        imputed_df.set_index('timestamp', inplace=True)\n",
    "        imputed_df = imputed_df.resample('1h').mean()\n",
    "        \n",
    "        imputed_df['File Name'] = filename\n",
    "        \n",
    "        imputed_df.to_csv(f'data/train_data_imputed/{filename}', index=True)               \n",
    "        \n",
    "        combined_df = pd.concat([combined_df, df], ignore_index=True)\n",
    "\n",
    "combined_df = combined_df.rename(columns={'Unnamed: 0': 'timestamp'})"
   ]
  },
  {
   "cell_type": "code",
   "execution_count": 37,
   "metadata": {},
   "outputs": [],
   "source": [
    "df_clean_test = pd.read_csv('data/train_data_imputed/z8jfojffxz.csv')\n"
   ]
  },
  {
   "cell_type": "code",
   "execution_count": 39,
   "metadata": {},
   "outputs": [],
   "source": [
    "df_clean_test['date'] = pd.to_datetime(df_clean_test['timestamp']).dt.date"
   ]
  },
  {
   "cell_type": "code",
   "execution_count": 70,
   "metadata": {},
   "outputs": [],
   "source": [
    "tracker = pd.read_csv('data/train_data/tracker.csv')"
   ]
  },
  {
   "cell_type": "code",
   "execution_count": 86,
   "metadata": {},
   "outputs": [
    {
     "data": {
      "text/plain": [
       "['date']"
      ]
     },
     "execution_count": 86,
     "metadata": {},
     "output_type": "execute_result"
    }
   ],
   "source": [
    "date_columns"
   ]
  },
  {
   "cell_type": "code",
   "execution_count": 85,
   "metadata": {},
   "outputs": [],
   "source": [
    "# Convert columns with 'Date' in their name to date format\n",
    "date_columns = [col for col in df_clean_test.columns if 'Date' in col or 'date' in col]\n",
    "df_clean_test[date_columns] = df_clean_test[date_columns].apply(pd.to_datetime, format='%Y-%m-%d')\n"
   ]
  },
  {
   "cell_type": "code",
   "execution_count": 49,
   "metadata": {},
   "outputs": [],
   "source": [
    "tracker_filtered = tracker[tracker['API'].isin(df_clean_test['File Name'].str[:-4])]"
   ]
  },
  {
   "cell_type": "code",
   "execution_count": 54,
   "metadata": {},
   "outputs": [
    {
     "name": "stderr",
     "output_type": "stream",
     "text": [
      "/tmp/ipykernel_162741/438238233.py:1: SettingWithCopyWarning: \n",
      "A value is trying to be set on a copy of a slice from a DataFrame\n",
      "\n",
      "See the caveats in the documentation: https://pandas.pydata.org/pandas-docs/stable/user_guide/indexing.html#returning-a-view-versus-a-copy\n",
      "  tracker_filtered.sort_values(by='Install #', inplace=True)\n"
     ]
    }
   ],
   "source": [
    "tracker_filtered.sort_values(by='Install #', inplace=True)"
   ]
  },
  {
   "cell_type": "code",
   "execution_count": 71,
   "metadata": {},
   "outputs": [],
   "source": [
    "tracker = tracker.sort_values(by=['API', 'Install #'])"
   ]
  },
  {
   "cell_type": "code",
   "execution_count": 73,
   "metadata": {},
   "outputs": [
    {
     "data": {
      "text/plain": [
       "0        3/3/2023 0:00\n",
       "1      10/21/2023 0:00\n",
       "3       1/15/2021 0:00\n",
       "2        6/9/2021 0:00\n",
       "4        6/2/2022 0:00\n",
       "            ...       \n",
       "200    12/31/2023 0:00\n",
       "203     9/15/2020 0:00\n",
       "202     7/11/2021 0:00\n",
       "201      8/2/2021 0:00\n",
       "204      1/9/2023 0:00\n",
       "Name: Ins Date, Length: 205, dtype: object"
      ]
     },
     "execution_count": 73,
     "metadata": {},
     "output_type": "execute_result"
    }
   ],
   "source": []
  },
  {
   "cell_type": "code",
   "execution_count": 87,
   "metadata": {},
   "outputs": [],
   "source": [
    "date_cols = [col for col in tracker.columns if 'Date' in col or 'date' in col]\n",
    "# Convert date columns to datetime, original format is 3/3/2023 0:00, target format is %Y-%m-%d \n",
    "for col in date_cols:\n",
    "    tracker[col] = pd.to_datetime(tracker[col], format='%m/%d/%Y %H:%M')"
   ]
  },
  {
   "cell_type": "code",
   "execution_count": null,
   "metadata": {},
   "outputs": [],
   "source": []
  },
  {
   "cell_type": "code",
   "execution_count": null,
   "metadata": {},
   "outputs": [],
   "source": [
    "combined_df = pd.read_csv('data/train_data/combined_data.csv')"
   ]
  },
  {
   "cell_type": "code",
   "execution_count": null,
   "metadata": {},
   "outputs": [],
   "source": [
    "msno.matrix(combined_df, figsize=(20, 10), fontsize=12)"
   ]
  },
  {
   "cell_type": "code",
   "execution_count": null,
   "metadata": {},
   "outputs": [],
   "source": [
    "combined_df['timestamp'] = pd.to_datetime(combined_df['timestamp'], format='mixed')\n",
    "combined_df['day'] = combined_df['timestamp'].dt.day\n"
   ]
  },
  {
   "cell_type": "code",
   "execution_count": 88,
   "metadata": {},
   "outputs": [
    {
     "name": "stdout",
     "output_type": "stream",
     "text": [
      "<class 'pandas.core.series.Series'>\n",
      "Index: 205 entries, 0 to 204\n",
      "Series name: Startup Date\n",
      "Non-Null Count  Dtype         \n",
      "--------------  -----         \n",
      "53 non-null     datetime64[ns]\n",
      "dtypes: datetime64[ns](1)\n",
      "memory usage: 3.2 KB\n"
     ]
    }
   ],
   "source": [
    "tracker['Startup Date'].info()"
   ]
  },
  {
   "cell_type": "code",
   "execution_count": null,
   "metadata": {},
   "outputs": [],
   "source": [
    "percentage = (nan_counts / len(combined_df)) * 100\n",
    "#print(percentage)\n",
    "#print(nan_counts)"
   ]
  },
  {
   "cell_type": "code",
   "execution_count": null,
   "metadata": {},
   "outputs": [],
   "source": [
    "# preparing for downsampling\n",
    "combined_df.set_index('timestamp', inplace=True)"
   ]
  },
  {
   "cell_type": "code",
   "execution_count": null,
   "metadata": {},
   "outputs": [],
   "source": [
    "# Initialize KNNImputer\n",
    "imputer = KNNImputer(n_neighbors=2)\n",
    "\n",
    "# Fit and transform the DataFrame\n",
    "imputed_data = imputer.fit_transform()\n",
    "\n",
    "# Convert the result back to a DataFrame\n",
    "imputed_df = pd.DataFrame(imputed_data, columns=df.columns)\n",
    "\n"
   ]
  },
  {
   "cell_type": "code",
   "execution_count": null,
   "metadata": {},
   "outputs": [],
   "source": [
    "combined_df.head()"
   ]
  },
  {
   "cell_type": "code",
   "execution_count": null,
   "metadata": {},
   "outputs": [],
   "source": [
    "combined_df.resample('1D').mean().interpolate(method='linear', limit_direction='both', inplace=True)"
   ]
  },
  {
   "cell_type": "code",
   "execution_count": null,
   "metadata": {},
   "outputs": [],
   "source": [
    "combined_df.head()"
   ]
  }
 ],
 "metadata": {
  "kernelspec": {
   "display_name": "de",
   "language": "python",
   "name": "python3"
  },
  "language_info": {
   "codemirror_mode": {
    "name": "ipython",
    "version": 3
   },
   "file_extension": ".py",
   "mimetype": "text/x-python",
   "name": "python",
   "nbconvert_exporter": "python",
   "pygments_lexer": "ipython3",
   "version": "3.11.11"
  }
 },
 "nbformat": 4,
 "nbformat_minor": 2
}
